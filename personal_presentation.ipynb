{
  "nbformat": 4,
  "nbformat_minor": 0,
  "metadata": {
    "colab": {
      "provenance": [],
      "authorship_tag": "ABX9TyMVpxVCJc3e9fyYKXm0mC4Q",
      "include_colab_link": true
    },
    "kernelspec": {
      "name": "python3",
      "display_name": "Python 3"
    },
    "language_info": {
      "name": "python"
    }
  },
  "cells": [
    {
      "cell_type": "markdown",
      "metadata": {
        "id": "view-in-github",
        "colab_type": "text"
      },
      "source": [
        "<a href=\"https://colab.research.google.com/github/Leotech47/my_homepage/blob/main/personal_presentation.ipynb\" target=\"_parent\"><img src=\"https://colab.research.google.com/assets/colab-badge.svg\" alt=\"Open In Colab\"/></a>"
      ]
    },
    {
      "cell_type": "markdown",
      "source": [
        "#Personal Presentation: My Homepage"
      ],
      "metadata": {
        "id": "VIpXldt4ZRJ5"
      }
    },
    {
      "cell_type": "code",
      "execution_count": 1,
      "metadata": {
        "colab": {
          "base_uri": "https://localhost:8080/"
        },
        "id": "orxMjHDnY9-X",
        "outputId": "0edffc4f-1cf5-4ee1-88d7-f57fcba29184"
      },
      "outputs": [
        {
          "output_type": "stream",
          "name": "stdout",
          "text": [
            "Homepage created successfully!\n"
          ]
        }
      ],
      "source": [
        "# prompt: gere uma homepage para meu curriculo\n",
        "\n",
        "# Import libraries\n",
        "import html\n",
        "\n",
        "# Define personal information\n",
        "name = \"John Doe\"\n",
        "title = \"Software Engineer\"\n",
        "email = \"john.doe@example.com\"\n",
        "phone = \"+1 555-123-4567\"\n",
        "location = \"San Francisco, CA\"\n",
        "\n",
        "# Define skills\n",
        "skills = [\n",
        "    \"Python\",\n",
        "    \"Java\",\n",
        "    \"C++\",\n",
        "    \"SQL\",\n",
        "    \"NoSQL\",\n",
        "    \"AWS\",\n",
        "    \"Docker\",\n",
        "    \"Kubernetes\",\n",
        "]\n",
        "\n",
        "# Define work experience\n",
        "work_experience = [\n",
        "    {\n",
        "        \"company\": \"Google\",\n",
        "        \"title\": \"Software Engineer\",\n",
        "        \"location\": \"Mountain View, CA\",\n",
        "        \"start_date\": \"2020-01-01\",\n",
        "        \"end_date\": \"2022-12-31\",\n",
        "    },\n",
        "    {\n",
        "        \"company\": \"Facebook\",\n",
        "        \"title\": \"Software Engineer Intern\",\n",
        "        \"location\": \"Menlo Park, CA\",\n",
        "        \"start_date\": \"2019-06-01\",\n",
        "        \"end_date\": \"2019-08-31\",\n",
        "    },\n",
        "]\n",
        "\n",
        "# Define education\n",
        "education = [\n",
        "    {\n",
        "        \"institution\": \"Stanford University\",\n",
        "        \"degree\": \"Master of Science in Computer Science\",\n",
        "        \"location\": \"Stanford, CA\",\n",
        "        \"start_date\": \"2018-09-01\",\n",
        "        \"end_date\": \"2020-06-30\",\n",
        "    },\n",
        "    {\n",
        "        \"institution\": \"University of California, Berkeley\",\n",
        "        \"degree\": \"Bachelor of Science in Computer Science\",\n",
        "        \"location\": \"Berkeley, CA\",\n",
        "        \"start_date\": \"2014-09-01\",\n",
        "        \"end_date\": \"2018-05-31\",\n",
        "    },\n",
        "]\n",
        "\n",
        "# Create HTML code\n",
        "html_code = \"\"\"\n",
        "<!DOCTYPE html>\n",
        "<html lang=\"en\">\n",
        "<head>\n",
        "  <meta charset=\"UTF-8\">\n",
        "  <meta name=\"viewport\" content=\"width=device-width, initial-scale=1.0\">\n",
        "  <title>John Doe's Homepage</title>\n",
        "</head>\n",
        "<body>\n",
        "  <h1>John Doe</h1>\n",
        "  <h2>Software Engineer</h2>\n",
        "  <ul>\n",
        "    <li>Email: \"\"\" + email + \"\"\"</li>\n",
        "    <li>Phone: \"\"\" + phone + \"\"\"</li>\n",
        "    <li>Location: \"\"\" + location + \"\"\"</li>\n",
        "  </ul>\n",
        "\n",
        "  <h2>Skills</h2>\n",
        "  <ul>\n",
        "\"\"\"\n",
        "\n",
        "for skill in skills:\n",
        "    html_code += \"    <li>\" + skill + \"</li>\\n\"\n",
        "\n",
        "html_code += \"\"\"\n",
        "  </ul>\n",
        "\n",
        "  <h2>Work Experience</h2>\n",
        "  <ul>\n",
        "\"\"\"\n",
        "\n",
        "for job in work_experience:\n",
        "    html_code += \"    <li>\" + job[\"company\"] + \", \" + job[\"title\"] + \", \" + job[\"location\"] + \", \" + job[\"start_date\"] + \" - \" + job[\"end_date\"] + \"</li>\\n\"\n",
        "\n",
        "html_code += \"\"\"\n",
        "  </ul>\n",
        "\n",
        "  <h2>Education</h2>\n",
        "  <ul>\n",
        "\"\"\"\n",
        "\n",
        "for degree in education:\n",
        "    html_code += \"    <li>\" + degree[\"institution\"] + \", \" + degree[\"degree\"] + \", \" + degree[\"location\"] + \", \" + degree[\"start_date\"] + \" - \" + degree[\"end_date\"] + \"</li>\\n\"\n",
        "\n",
        "html_code += \"\"\"\n",
        "  </ul>\n",
        "</body>\n",
        "</html>\n",
        "\"\"\"\n",
        "\n",
        "# Save HTML code to a file\n",
        "with open(\"index.html\", \"w\") as f:\n",
        "    f.write(html_code)\n",
        "\n",
        "# Print a message\n",
        "print(\"Homepage created successfully!\")\n"
      ]
    }
  ]
}